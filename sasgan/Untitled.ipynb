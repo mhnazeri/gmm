{
 "cells": [
  {
   "cell_type": "code",
   "execution_count": 7,
   "metadata": {},
   "outputs": [],
   "source": [
    "from data.loader import NuSceneDataset\n",
    "from utils import default_collate\n",
    "from torch.utils.data import DataLoader\n",
    "\n",
    "nuscenes_data = NuSceneDataset(root_dir=\"data\")\n",
    "\n",
    "data_loader = DataLoader(nuscenes_data,\n",
    "                         batch_size=64,\n",
    "                         shuffle=True,\n",
    "                         collate_fn=default_collate)"
   ]
  },
  {
   "cell_type": "code",
   "execution_count": 41,
   "metadata": {},
   "outputs": [
    {
     "data": {
      "text/plain": [
       "array([0., 0., 0., 0., 0., 0., 0., 0., 0., 0., 0., 0., 0.], dtype=float32)"
      ]
     },
     "execution_count": 41,
     "metadata": {},
     "output_type": "execute_result"
    }
   ],
   "source": [
    "from pandas import DataFrame\n",
    "data = next(iter(data_loader))\n",
    "data[\"rel_past\"].numpy()[:, 0][0]"
   ]
  },
  {
   "cell_type": "code",
   "execution_count": 42,
   "metadata": {},
   "outputs": [
    {
     "data": {
      "text/plain": [
       "array([ 4.2316895e+00,  8.2702637e-02,  0.0000000e+00,  4.5299530e-06,\n",
       "        9.4156899e-04, -3.2212916e-03,  5.7160947e-04,  6.1536312e-01,\n",
       "       -1.2942448e-02,  0.0000000e+00,  0.0000000e+00,  0.0000000e+00,\n",
       "        0.0000000e+00], dtype=float32)"
      ]
     },
     "execution_count": 42,
     "metadata": {},
     "output_type": "execute_result"
    }
   ],
   "source": [
    "data[\"rel_past\"].numpy()[:, 0][1]"
   ]
  },
  {
   "cell_type": "code",
   "execution_count": 43,
   "metadata": {},
   "outputs": [
    {
     "data": {
      "text/plain": [
       "array([ 4.0914307e+00,  6.6101074e-02,  0.0000000e+00, -4.0531158e-05,\n",
       "       -2.7119545e-03, -1.5746779e-04,  5.8813021e-06,  4.0565014e-01,\n",
       "       -3.4774125e-02,  0.0000000e+00,  0.0000000e+00,  0.0000000e+00,\n",
       "        0.0000000e+00], dtype=float32)"
      ]
     },
     "execution_count": 43,
     "metadata": {},
     "output_type": "execute_result"
    }
   ],
   "source": [
    "data[\"rel_past\"].numpy()[:, 0][2]"
   ]
  },
  {
   "cell_type": "code",
   "execution_count": 44,
   "metadata": {},
   "outputs": [
    {
     "data": {
      "text/plain": [
       "array([3.8164062e+00, 7.2570801e-02, 0.0000000e+00, 9.2387199e-06,\n",
       "       1.0222616e-03, 2.0045156e-03, 7.5024087e-04, 1.1745739e-01,\n",
       "       3.0692101e-02, 0.0000000e+00, 0.0000000e+00, 0.0000000e+00,\n",
       "       0.0000000e+00], dtype=float32)"
      ]
     },
     "execution_count": 44,
     "metadata": {},
     "output_type": "execute_result"
    }
   ],
   "source": [
    "data[\"rel_past\"].numpy()[:, 0][3]"
   ]
  },
  {
   "cell_type": "code",
   "execution_count": null,
   "metadata": {},
   "outputs": [],
   "source": []
  },
  {
   "cell_type": "code",
   "execution_count": null,
   "metadata": {},
   "outputs": [],
   "source": []
  }
 ],
 "metadata": {
  "kernelspec": {
   "display_name": "Python 3",
   "language": "python",
   "name": "python3"
  },
  "language_info": {
   "codemirror_mode": {
    "name": "ipython",
    "version": 3
   },
   "file_extension": ".py",
   "mimetype": "text/x-python",
   "name": "python",
   "nbconvert_exporter": "python",
   "pygments_lexer": "ipython3",
   "version": "3.7.7"
  }
 },
 "nbformat": 4,
 "nbformat_minor": 4
}
